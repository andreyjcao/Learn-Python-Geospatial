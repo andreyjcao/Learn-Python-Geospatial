{
 "cells": [
  {
   "cell_type": "code",
   "execution_count": null,
   "id": "f1bc1f0d-3af9-42ce-9d18-4a5a72a07d4d",
   "metadata": {},
   "outputs": [],
   "source": [
    "3 + 4"
   ]
  },
  {
   "cell_type": "code",
   "execution_count": null,
   "id": "ed59785d-0378-4dc5-bdeb-618557999386",
   "metadata": {},
   "outputs": [],
   "source": [
    "a = 1\n",
    "b = 4\n",
    "print(a)\n",
    "b"
   ]
  },
  {
   "cell_type": "code",
   "execution_count": null,
   "id": "1110e80c-80a6-4a55-a7ae-efa6b2e47d03",
   "metadata": {},
   "outputs": [],
   "source": [
    "print(a,b)"
   ]
  },
  {
   "cell_type": "code",
   "execution_count": 6,
   "id": "83927660-2512-4b1c-b554-391558af66b9",
   "metadata": {},
   "outputs": [
    {
     "name": "stdout",
     "output_type": "stream",
     "text": [
      "a exists\n",
      "b exists\n",
      "a and b exist\n"
     ]
    }
   ],
   "source": [
    "a = 2\n",
    "if a:\n",
    "    print('a exists')\n",
    "b = 3\n",
    "if b:\n",
    "    print('b exists')\n",
    "if a:\n",
    "    if b:\n",
    "        print('a and b exist')\n"
   ]
  },
  {
   "cell_type": "code",
   "execution_count": null,
   "id": "f0b9c786-e46b-4e59-aef9-01935c462ecf",
   "metadata": {},
   "outputs": [],
   "source": []
  }
 ],
 "metadata": {
  "kernelspec": {
   "display_name": "Python 3 (ipykernel)",
   "language": "python",
   "name": "python3"
  },
  "language_info": {
   "codemirror_mode": {
    "name": "ipython",
    "version": 3
   },
   "file_extension": ".py",
   "mimetype": "text/x-python",
   "name": "python",
   "nbconvert_exporter": "python",
   "pygments_lexer": "ipython3",
   "version": "3.9.18"
  }
 },
 "nbformat": 4,
 "nbformat_minor": 5
}
